{
 "cells": [
  {
   "cell_type": "code",
   "execution_count": 17,
   "id": "5c46e18b",
   "metadata": {},
   "outputs": [],
   "source": [
    "in_list=[1,2,3,4,5]\n",
    "window_value=[1,0,1,0]"
   ]
  },
  {
   "cell_type": "code",
   "execution_count": 29,
   "id": "4b23212f",
   "metadata": {},
   "outputs": [],
   "source": [
    "def sliding_window(input_list, window):\n",
    "\n",
    "    windows=[]\n",
    "    lst=[]\n",
    "    value=0 \n",
    "\n",
    "    for i in range(len(input_list)):\n",
    "        try:\n",
    "            list_split=input_list[i:input_list[i+len(window)-1]]\n",
    "            print(input_list[i+len(window)-1])\n",
    "            if len(list_split)==len(window):\n",
    "                for j in range(len(list_split)):\n",
    "                    value=list_split[j]*window[j]\n",
    "                    lst.append(value)\n",
    "                windows.append(lst)\n",
    "                lst=[]\n",
    "            else:\n",
    "                pass\n",
    "        except:\n",
    "            pass\n",
    "        \n",
    "    return windows"
   ]
  },
  {
   "cell_type": "code",
   "execution_count": 19,
   "id": "a9ffb608",
   "metadata": {},
   "outputs": [
    {
     "data": {
      "text/plain": [
       "[4, 6]"
      ]
     },
     "execution_count": 19,
     "metadata": {},
     "output_type": "execute_result"
    }
   ],
   "source": [
    "## To do the added value\n",
    "added_lst=[]\n",
    "\n",
    "window_list=sliding_window(in_list, window_value)\n",
    "for lists in window_list:\n",
    "    added_value=sum(lists)\n",
    "    added_lst.append(added_value)\n",
    "    \n",
    "added_lst"
   ]
  },
  {
   "cell_type": "code",
   "execution_count": 30,
   "id": "79554ccd",
   "metadata": {},
   "outputs": [
    {
     "name": "stdout",
     "output_type": "stream",
     "text": [
      "2\n",
      "3\n",
      "4\n",
      "5\n",
      "0\n",
      "0\n",
      "Original_list:  [1, 2, 3, 4, 5]\n",
      "Altered_list:  [0, 0, 1, 2, 3, 4, 5, 0, 0]\n",
      "Final result:  []\n"
     ]
    }
   ],
   "source": [
    "# To perform with the added zeros\n",
    "altered_list=in_list.copy()\n",
    "zeros=2\n",
    "\n",
    "for i in range(zeros):\n",
    "    altered_list.insert(i,0)\n",
    "    altered_list.append(0)\n",
    "    \n",
    "convoluted_list=sliding_window(altered_list, window_value)\n",
    "\n",
    "print(\"Original_list: \", in_list)\n",
    "print(\"Altered_list: \", altered_list)\n",
    "print(\"Final result: \", convoluted_list)"
   ]
  },
  {
   "cell_type": "code",
   "execution_count": null,
   "id": "fd944f5b",
   "metadata": {},
   "outputs": [],
   "source": []
  }
 ],
 "metadata": {
  "kernelspec": {
   "display_name": "Python 3 (ipykernel)",
   "language": "python",
   "name": "python3"
  },
  "language_info": {
   "codemirror_mode": {
    "name": "ipython",
    "version": 3
   },
   "file_extension": ".py",
   "mimetype": "text/x-python",
   "name": "python",
   "nbconvert_exporter": "python",
   "pygments_lexer": "ipython3",
   "version": "3.9.12"
  }
 },
 "nbformat": 4,
 "nbformat_minor": 5
}
